{
 "cells": [
  {
   "cell_type": "code",
   "execution_count": 1,
   "id": "53ac8b70",
   "metadata": {
    "_cell_guid": "b1076dfc-b9ad-4769-8c92-a6c4dae69d19",
    "_uuid": "8f2839f25d086af736a60e9eeb907d3b93b6e0e5",
    "execution": {
     "iopub.execute_input": "2022-03-01T17:36:34.906461Z",
     "iopub.status.busy": "2022-03-01T17:36:34.905571Z",
     "iopub.status.idle": "2022-03-01T17:36:36.659351Z",
     "shell.execute_reply": "2022-03-01T17:36:36.660031Z",
     "shell.execute_reply.started": "2022-03-01T17:34:44.056428Z"
    },
    "papermill": {
     "duration": 1.791029,
     "end_time": "2022-03-01T17:36:36.660443",
     "exception": false,
     "start_time": "2022-03-01T17:36:34.869414",
     "status": "completed"
    },
    "tags": []
   },
   "outputs": [
    {
     "name": "stdout",
     "output_type": "stream",
     "text": [
      "/kaggle/input/feature-engineering-wids2022/feature_engineering.pkl\n",
      "/kaggle/input/widsdatathon2022/train.csv\n",
      "/kaggle/input/widsdatathon2022/test.csv\n",
      "/kaggle/input/widsdatathon2022/sample_solution.csv\n"
     ]
    }
   ],
   "source": [
    "import matplotlib.pyplot as plt\n",
    "from sklearn.base import BaseEstimator, TransformerMixin\n",
    "import numpy as np # linear algebra\n",
    "import pandas as pd # data processing, CSV file I/O (e.g. pd.read_csv)\n",
    "from sklearn.feature_selection import SelectFromModel\n",
    "from sklearn.ensemble import RandomForestRegressor\n",
    "from sklearn.model_selection import KFold\n",
    "from sklearn.preprocessing import LabelEncoder\n",
    "import tqdm\n",
    "from sklearn.impute import KNNImputer\n",
    "from catboost import CatBoostRegressor\n",
    "from category_encoders import TargetEncoder\n",
    "import joblib\n",
    "from sklearn.metrics import mean_squared_error\n",
    "\n",
    "\n",
    "import os\n",
    "for dirname, _, filenames in os.walk('/kaggle/input'):\n",
    "#for dirname, _, filenames in os.walk('../data/'):\n",
    "    for filename in filenames:\n",
    "        print(os.path.join(dirname, filename))"
   ]
  },
  {
   "cell_type": "markdown",
   "id": "a54f6bd5",
   "metadata": {
    "papermill": {
     "duration": 0.024859,
     "end_time": "2022-03-01T17:36:36.712209",
     "exception": false,
     "start_time": "2022-03-01T17:36:36.687350",
     "status": "completed"
    },
    "tags": []
   },
   "source": [
    "## Reading Data"
   ]
  },
  {
   "cell_type": "code",
   "execution_count": 2,
   "id": "4b27ffb9",
   "metadata": {
    "execution": {
     "iopub.execute_input": "2022-03-01T17:36:36.766029Z",
     "iopub.status.busy": "2022-03-01T17:36:36.765348Z",
     "iopub.status.idle": "2022-03-01T17:36:37.793132Z",
     "shell.execute_reply": "2022-03-01T17:36:37.792572Z",
     "shell.execute_reply.started": "2022-03-01T17:34:45.943177Z"
    },
    "papermill": {
     "duration": 1.055791,
     "end_time": "2022-03-01T17:36:37.793306",
     "exception": false,
     "start_time": "2022-03-01T17:36:36.737515",
     "status": "completed"
    },
    "tags": []
   },
   "outputs": [
    {
     "name": "stderr",
     "output_type": "stream",
     "text": [
      "/opt/conda/lib/python3.7/site-packages/ipykernel_launcher.py:11: FutureWarning: In a future version of pandas all arguments of concat except for the argument 'objs' will be keyword-only\n",
      "  # This is added back by InteractiveShellApp.init_path()\n"
     ]
    }
   ],
   "source": [
    "train = pd.read_csv('../input/widsdatathon2022/train.csv')\n",
    "#train = pd.read_csv('../data/train.csv')\n",
    "test = pd.read_csv('../input/widsdatathon2022/test.csv')\n",
    "#test = pd.read_csv('../data/test.csv')\n",
    "\n",
    "#we will suppose that two  if two buildings have the same values for these features ; they are the sane building\n",
    "# in other words groupby_cols = (building_id)\n",
    "groupby_cols = ['State_Factor','building_class','facility_type','floor_area','year_built']\n",
    "train['source'] = 'train'\n",
    "test['source']  = 'test'\n",
    "df = pd.concat([train,test], 0, ignore_index=True)\n",
    "df=df.sort_values(by=groupby_cols+['Year_Factor']).reset_index(drop=True)\n"
   ]
  },
  {
   "cell_type": "code",
   "execution_count": 3,
   "id": "3629bd2a",
   "metadata": {
    "execution": {
     "iopub.execute_input": "2022-03-01T17:36:37.853048Z",
     "iopub.status.busy": "2022-03-01T17:36:37.852439Z",
     "iopub.status.idle": "2022-03-01T17:36:37.855194Z",
     "shell.execute_reply": "2022-03-01T17:36:37.855665Z",
     "shell.execute_reply.started": "2022-03-01T17:34:47.087971Z"
    },
    "papermill": {
     "duration": 0.035895,
     "end_time": "2022-03-01T17:36:37.855826",
     "exception": false,
     "start_time": "2022-03-01T17:36:37.819931",
     "status": "completed"
    },
    "tags": []
   },
   "outputs": [
    {
     "data": {
      "text/plain": [
       "RangeIndex(start=0, stop=85462, step=1)"
      ]
     },
     "execution_count": 3,
     "metadata": {},
     "output_type": "execute_result"
    }
   ],
   "source": [
    "df.index"
   ]
  },
  {
   "cell_type": "markdown",
   "id": "b1c219ba",
   "metadata": {
    "papermill": {
     "duration": 0.026238,
     "end_time": "2022-03-01T17:36:37.910579",
     "exception": false,
     "start_time": "2022-03-01T17:36:37.884341",
     "status": "completed"
    },
    "tags": []
   },
   "source": [
    "### Missing values imputation"
   ]
  },
  {
   "cell_type": "markdown",
   "id": "a2ac8001",
   "metadata": {
    "papermill": {
     "duration": 0.025964,
     "end_time": "2022-03-01T17:36:37.963637",
     "exception": false,
     "start_time": "2022-03-01T17:36:37.937673",
     "status": "completed"
    },
    "tags": []
   },
   "source": [
    "### Category encoding\n",
    "As we donwe will use **knn imputing**"
   ]
  },
  {
   "cell_type": "code",
   "execution_count": 4,
   "id": "3aed775e",
   "metadata": {
    "execution": {
     "iopub.execute_input": "2022-03-01T17:36:38.022285Z",
     "iopub.status.busy": "2022-03-01T17:36:38.021616Z",
     "iopub.status.idle": "2022-03-01T17:36:38.030169Z",
     "shell.execute_reply": "2022-03-01T17:36:38.030721Z",
     "shell.execute_reply.started": "2022-03-01T17:34:49.865916Z"
    },
    "papermill": {
     "duration": 0.040601,
     "end_time": "2022-03-01T17:36:38.030890",
     "exception": false,
     "start_time": "2022-03-01T17:36:37.990289",
     "status": "completed"
    },
    "tags": []
   },
   "outputs": [
    {
     "data": {
      "text/plain": [
       "Index(['State_Factor', 'building_class', 'facility_type', 'source'], dtype='object')"
      ]
     },
     "execution_count": 4,
     "metadata": {},
     "output_type": "execute_result"
    }
   ],
   "source": [
    "\n",
    "# cats\n",
    "df.loc[:,df.dtypes=='object'].columns"
   ]
  },
  {
   "cell_type": "code",
   "execution_count": 5,
   "id": "dcc0240d",
   "metadata": {
    "execution": {
     "iopub.execute_input": "2022-03-01T17:36:38.105018Z",
     "iopub.status.busy": "2022-03-01T17:36:38.095797Z",
     "iopub.status.idle": "2022-03-01T17:36:38.110104Z",
     "shell.execute_reply": "2022-03-01T17:36:38.109603Z",
     "shell.execute_reply.started": "2022-03-01T17:34:50.928114Z"
    },
    "papermill": {
     "duration": 0.053354,
     "end_time": "2022-03-01T17:36:38.110275",
     "exception": false,
     "start_time": "2022-03-01T17:36:38.056921",
     "status": "completed"
    },
    "tags": []
   },
   "outputs": [],
   "source": [
    "\n",
    "facility_type_qcut = pd.qcut(df['facility_type'].value_counts(), q=4, labels=[f'facility_type_qcut_{i}' for i in range(4)])\n",
    "map_dict = dict(facility_type_qcut)\n",
    "for i in map_dict:\n",
    "    if map_dict[i] == 'facility_type_qcut_3':\n",
    "        map_dict[i] = i\n",
    "df['facility_type'] = df['facility_type'].map(map_dict)"
   ]
  },
  {
   "cell_type": "code",
   "execution_count": 6,
   "id": "6e4451b2",
   "metadata": {
    "execution": {
     "iopub.execute_input": "2022-03-01T17:36:38.174270Z",
     "iopub.status.busy": "2022-03-01T17:36:38.173336Z",
     "iopub.status.idle": "2022-03-01T17:36:38.207758Z",
     "shell.execute_reply": "2022-03-01T17:36:38.207175Z",
     "shell.execute_reply.started": "2022-03-01T17:34:51.311676Z"
    },
    "papermill": {
     "duration": 0.070563,
     "end_time": "2022-03-01T17:36:38.207899",
     "exception": false,
     "start_time": "2022-03-01T17:36:38.137336",
     "status": "completed"
    },
    "tags": []
   },
   "outputs": [],
   "source": [
    "cats = ['State_Factor', 'facility_type', 'building_class']\n",
    "for col in cats:\n",
    "    dummies = pd.get_dummies(df[col], dummy_na=False)\n",
    "    for ohe_col in dummies:\n",
    "        df[f'ohe_{col}_{ohe_col}'] = dummies[ohe_col]"
   ]
  },
  {
   "cell_type": "code",
   "execution_count": 7,
   "id": "5b50cb79",
   "metadata": {
    "execution": {
     "iopub.execute_input": "2022-03-01T17:36:38.269538Z",
     "iopub.status.busy": "2022-03-01T17:36:38.268874Z",
     "iopub.status.idle": "2022-03-01T17:36:38.382561Z",
     "shell.execute_reply": "2022-03-01T17:36:38.381051Z",
     "shell.execute_reply.started": "2022-03-01T17:34:56.755836Z"
    },
    "papermill": {
     "duration": 0.147635,
     "end_time": "2022-03-01T17:36:38.382764",
     "exception": false,
     "start_time": "2022-03-01T17:36:38.235129",
     "status": "completed"
    },
    "tags": []
   },
   "outputs": [
    {
     "name": "stdout",
     "output_type": "stream",
     "text": [
      "Your selected dataframe has 65 columns.\n",
      "There are 6 columns that have missing values.\n"
     ]
    },
    {
     "data": {
      "text/html": [
       "<style type=\"text/css\">\n",
       "#T_fbe59_row0_col0, #T_fbe59_row0_col1 {\n",
       "  background-color: #67000d;\n",
       "  color: #f1f1f1;\n",
       "}\n",
       "#T_fbe59_row1_col0, #T_fbe59_row1_col1 {\n",
       "  background-color: #940b13;\n",
       "  color: #f1f1f1;\n",
       "}\n",
       "#T_fbe59_row2_col0, #T_fbe59_row2_col1, #T_fbe59_row3_col0, #T_fbe59_row3_col1 {\n",
       "  background-color: #9c0d14;\n",
       "  color: #f1f1f1;\n",
       "}\n",
       "#T_fbe59_row4_col0, #T_fbe59_row4_col1 {\n",
       "  background-color: #f5523a;\n",
       "  color: #f1f1f1;\n",
       "}\n",
       "#T_fbe59_row5_col0, #T_fbe59_row5_col1 {\n",
       "  background-color: #fff5f0;\n",
       "  color: #000000;\n",
       "}\n",
       "</style>\n",
       "<table id=\"T_fbe59_\">\n",
       "  <thead>\n",
       "    <tr>\n",
       "      <th class=\"blank level0\" >&nbsp;</th>\n",
       "      <th class=\"col_heading level0 col0\" >Missing Values</th>\n",
       "      <th class=\"col_heading level0 col1\" >% of Total Values</th>\n",
       "    </tr>\n",
       "  </thead>\n",
       "  <tbody>\n",
       "    <tr>\n",
       "      <th id=\"T_fbe59_level0_row0\" class=\"row_heading level0 row0\" >days_with_fog</th>\n",
       "      <td id=\"T_fbe59_row0_col0\" class=\"data row0 col0\" >45796</td>\n",
       "      <td id=\"T_fbe59_row0_col1\" class=\"data row0 col1\" >60.500000</td>\n",
       "    </tr>\n",
       "    <tr>\n",
       "      <th id=\"T_fbe59_level0_row1\" class=\"row_heading level0 row1\" >direction_peak_wind_speed</th>\n",
       "      <td id=\"T_fbe59_row1_col0\" class=\"data row1 col0\" >41811</td>\n",
       "      <td id=\"T_fbe59_row1_col1\" class=\"data row1 col1\" >55.200000</td>\n",
       "    </tr>\n",
       "    <tr>\n",
       "      <th id=\"T_fbe59_level0_row2\" class=\"row_heading level0 row2\" >direction_max_wind_speed</th>\n",
       "      <td id=\"T_fbe59_row2_col0\" class=\"data row2 col0\" >41082</td>\n",
       "      <td id=\"T_fbe59_row2_col1\" class=\"data row2 col1\" >54.200000</td>\n",
       "    </tr>\n",
       "    <tr>\n",
       "      <th id=\"T_fbe59_level0_row3\" class=\"row_heading level0 row3\" >max_wind_speed</th>\n",
       "      <td id=\"T_fbe59_row3_col0\" class=\"data row3 col0\" >41082</td>\n",
       "      <td id=\"T_fbe59_row3_col1\" class=\"data row3 col1\" >54.200000</td>\n",
       "    </tr>\n",
       "    <tr>\n",
       "      <th id=\"T_fbe59_level0_row4\" class=\"row_heading level0 row4\" >energy_star_rating</th>\n",
       "      <td id=\"T_fbe59_row4_col0\" class=\"data row4 col0\" >26709</td>\n",
       "      <td id=\"T_fbe59_row4_col1\" class=\"data row4 col1\" >35.300000</td>\n",
       "    </tr>\n",
       "    <tr>\n",
       "      <th id=\"T_fbe59_level0_row5\" class=\"row_heading level0 row5\" >year_built</th>\n",
       "      <td id=\"T_fbe59_row5_col0\" class=\"data row5 col0\" >1837</td>\n",
       "      <td id=\"T_fbe59_row5_col1\" class=\"data row5 col1\" >2.400000</td>\n",
       "    </tr>\n",
       "  </tbody>\n",
       "</table>\n"
      ],
      "text/plain": [
       "<pandas.io.formats.style.Styler at 0x7f121d9eff90>"
      ]
     },
     "execution_count": 7,
     "metadata": {},
     "output_type": "execute_result"
    }
   ],
   "source": [
    "# Function to calculate missing values by column# Funct \n",
    "# from https://www.kaggle.com/parulpandey/starter-code-with-baseline\n",
    "def missing_values_table(df):\n",
    "        # Total missing values by column\n",
    "        mis_val = df.isnull().sum()\n",
    "        \n",
    "        # Percentage of missing values by column\n",
    "        mis_val_percent = 100 * df.isnull().sum() / len(df)\n",
    "        \n",
    "        # build a table with the thw columns\n",
    "        mis_val_table = pd.concat([mis_val, mis_val_percent], axis=1)\n",
    "        \n",
    "        # Rename the columns\n",
    "        mis_val_table_ren_columns = mis_val_table.rename(\n",
    "        columns = {0 : 'Missing Values', 1 : '% of Total Values'})\n",
    "        \n",
    "        # Sort the table by percentage of missing descending\n",
    "        mis_val_table_ren_columns = mis_val_table_ren_columns[\n",
    "            mis_val_table_ren_columns.iloc[:,1] != 0].sort_values(\n",
    "        '% of Total Values', ascending=False).round(1)\n",
    "        \n",
    "        # Print some summary information\n",
    "        print (\"Your selected dataframe has \" + str(df.shape[1]) + \" columns.\\n\"      \n",
    "            \"There are \" + str(mis_val_table_ren_columns.shape[0]) +\n",
    "              \" columns that have missing values.\")\n",
    "        \n",
    "        # Return the dataframe with missing information\n",
    "        return mis_val_table_ren_columns\n",
    "\n",
    "# Missing values for training data\n",
    "missing_values_train = missing_values_table(train)\n",
    "missing_values_train[:20].style.background_gradient(cmap='Reds')"
   ]
  },
  {
   "cell_type": "code",
   "execution_count": 8,
   "id": "8ced9c88",
   "metadata": {
    "execution": {
     "iopub.execute_input": "2022-03-01T17:36:38.443085Z",
     "iopub.status.busy": "2022-03-01T17:36:38.442313Z",
     "iopub.status.idle": "2022-03-01T17:36:38.445111Z",
     "shell.execute_reply": "2022-03-01T17:36:38.444606Z",
     "shell.execute_reply.started": "2022-03-01T17:34:57.073871Z"
    },
    "papermill": {
     "duration": 0.035251,
     "end_time": "2022-03-01T17:36:38.445303",
     "exception": false,
     "start_time": "2022-03-01T17:36:38.410052",
     "status": "completed"
    },
    "tags": []
   },
   "outputs": [],
   "source": [
    "knn_imputing = False\n",
    "target='site_eui'\n",
    "\n",
    "if knn_imputing:\n",
    "    imputer = KNNImputer(n_neighbors=7)\n",
    "    tmp = df[['State_Factor', 'building_class', 'facility_type', 'source', target]]\n",
    "    df = df.drop(tmp.columns, axis=1)\n",
    "    df1 = pd.DataFrame(imputer.fit_transform(df),columns = df.columns)\n",
    "\n",
    "    joblib.dump(imputer, '../models/knn_imputer.pkl')\n",
    "\n",
    "    for col in tmp.columns:\n",
    "        df[col]=tmp[col]\n",
    "    for col in df1.columns:\n",
    "        df[col] = df1[col]"
   ]
  },
  {
   "cell_type": "markdown",
   "id": "75bcf702",
   "metadata": {
    "papermill": {
     "duration": 0.026307,
     "end_time": "2022-03-01T17:36:38.498338",
     "exception": false,
     "start_time": "2022-03-01T17:36:38.472031",
     "status": "completed"
    },
    "tags": []
   },
   "source": [
    "### Target Encoding"
   ]
  },
  {
   "cell_type": "code",
   "execution_count": 9,
   "id": "401dd88d",
   "metadata": {
    "execution": {
     "iopub.execute_input": "2022-03-01T17:36:38.561897Z",
     "iopub.status.busy": "2022-03-01T17:36:38.557685Z",
     "iopub.status.idle": "2022-03-01T17:36:38.699605Z",
     "shell.execute_reply": "2022-03-01T17:36:38.700073Z",
     "shell.execute_reply.started": "2022-03-01T17:35:03.115031Z"
    },
    "papermill": {
     "duration": 0.175306,
     "end_time": "2022-03-01T17:36:38.700278",
     "exception": false,
     "start_time": "2022-03-01T17:36:38.524972",
     "status": "completed"
    },
    "tags": []
   },
   "outputs": [],
   "source": [
    "\n",
    "cats = ['State_Factor', 'building_class', 'facility_type']\n",
    "for col in cats:\n",
    "    encoder = TargetEncoder()\n",
    "    df[f'te_{col}'] = encoder.fit_transform(df[col], df[target])"
   ]
  },
  {
   "cell_type": "markdown",
   "id": "440faf81",
   "metadata": {
    "papermill": {
     "duration": 0.026327,
     "end_time": "2022-03-01T17:36:38.753333",
     "exception": false,
     "start_time": "2022-03-01T17:36:38.727006",
     "status": "completed"
    },
    "tags": []
   },
   "source": [
    "## Weather based features\n",
    "\n",
    "we will extract new weather statistics from the building location weather features "
   ]
  },
  {
   "cell_type": "code",
   "execution_count": 10,
   "id": "183b9444",
   "metadata": {
    "execution": {
     "iopub.execute_input": "2022-03-01T17:36:38.824074Z",
     "iopub.status.busy": "2022-03-01T17:36:38.810296Z",
     "iopub.status.idle": "2022-03-01T17:36:39.506942Z",
     "shell.execute_reply": "2022-03-01T17:36:39.506336Z",
     "shell.execute_reply.started": "2022-03-01T17:35:05.736783Z"
    },
    "papermill": {
     "duration": 0.727131,
     "end_time": "2022-03-01T17:36:39.507076",
     "exception": false,
     "start_time": "2022-03-01T17:36:38.779945",
     "status": "completed"
    },
    "tags": []
   },
   "outputs": [],
   "source": [
    "# extract new weather statistics from the building location weather features\n",
    "temp = [col for col in df.columns if 'temp' in col]\n",
    "\n",
    "df['min_temp'] = df[temp].min(axis=1)\n",
    "df['max_temp'] = df[temp].max(axis=1)\n",
    "df['avg_temp'] = df[temp].mean(axis=1)\n",
    "df['std_temp'] = df[temp].std(axis=1)\n",
    "df['skew_temp'] = df[temp].skew(axis=1)\n",
    "\n",
    "# by seasons\n",
    "temp = pd.Series([col for col in df.columns if 'temp' in col])\n",
    "\n",
    "winter_temp = temp[temp.apply(lambda x: ('january' in x or 'february' in x or 'december' in x))].values\n",
    "spring_temp = temp[temp.apply(lambda x: ('march' in x or 'april' in x or 'may' in x))].values\n",
    "summer_temp = temp[temp.apply(lambda x: ('june' in x or 'july' in x or 'august' in x))].values\n",
    "autumn_temp = temp[temp.apply(lambda x: ('september' in x or 'october' in x or 'november' in x))].values\n",
    "\n",
    "\n",
    "### winter\n",
    "df['min_winter_temp'] = df[winter_temp].min(axis=1)\n",
    "df['max_winter_temp'] = df[winter_temp].max(axis=1)\n",
    "df['avg_winter_temp'] = df[winter_temp].mean(axis=1)\n",
    "df['std_winter_temp'] = df[winter_temp].std(axis=1)\n",
    "df['skew_winter_temp'] = df[winter_temp].skew(axis=1)\n",
    "### spring\n",
    "df['min_spring_temp'] = df[spring_temp].min(axis=1)\n",
    "df['max_spring_temp'] = df[spring_temp].max(axis=1)\n",
    "df['avg_spring_temp'] = df[spring_temp].mean(axis=1)\n",
    "df['std_spring_temp'] = df[spring_temp].std(axis=1)\n",
    "df['skew_spring_temp'] = df[spring_temp].skew(axis=1)\n",
    "### summer\n",
    "df['min_summer_temp'] = df[summer_temp].min(axis=1)\n",
    "df['max_summer_temp'] = df[summer_temp].max(axis=1)\n",
    "df['avg_summer_temp'] = df[summer_temp].mean(axis=1)\n",
    "df['std_summer_temp'] = df[summer_temp].max(axis=1)\n",
    "df['skew_summer_temp'] = df[summer_temp].max(axis=1)\n",
    "## autumn\n",
    "df['min_autumn_temp'] = df[autumn_temp].min(axis=1)\n",
    "df['max_autumn_temp'] = df[autumn_temp].max(axis=1)\n",
    "df['avg_autumn_temp'] = df[autumn_temp].mean(axis=1)\n",
    "df['std_autumn_temp'] = df[autumn_temp].std(axis=1)\n",
    "df['skew_autumn_temp'] = df[autumn_temp].skew(axis=1)"
   ]
  },
  {
   "cell_type": "code",
   "execution_count": 11,
   "id": "1ac48aeb",
   "metadata": {
    "execution": {
     "iopub.execute_input": "2022-03-01T17:36:39.568452Z",
     "iopub.status.busy": "2022-03-01T17:36:39.567260Z",
     "iopub.status.idle": "2022-03-01T17:36:39.572044Z",
     "shell.execute_reply": "2022-03-01T17:36:39.572495Z",
     "shell.execute_reply.started": "2022-03-01T17:35:07.333919Z"
    },
    "papermill": {
     "duration": 0.038189,
     "end_time": "2022-03-01T17:36:39.572670",
     "exception": false,
     "start_time": "2022-03-01T17:36:39.534481",
     "status": "completed"
    },
    "tags": []
   },
   "outputs": [],
   "source": [
    "df['month_cooling_degree_days'] = df['cooling_degree_days']/12\n",
    "df['month_heating_degree_days'] = df['heating_degree_days']/12"
   ]
  },
  {
   "cell_type": "markdown",
   "id": "06712feb",
   "metadata": {
    "papermill": {
     "duration": 0.027296,
     "end_time": "2022-03-01T17:36:39.626908",
     "exception": false,
     "start_time": "2022-03-01T17:36:39.599612",
     "status": "completed"
    },
    "tags": []
   },
   "source": [
    "### Buildig based feature:"
   ]
  },
  {
   "cell_type": "code",
   "execution_count": 12,
   "id": "2ac7a619",
   "metadata": {
    "execution": {
     "iopub.execute_input": "2022-03-01T17:36:39.683783Z",
     "iopub.status.busy": "2022-03-01T17:36:39.682838Z",
     "iopub.status.idle": "2022-03-01T17:36:39.689658Z",
     "shell.execute_reply": "2022-03-01T17:36:39.690165Z",
     "shell.execute_reply.started": "2022-03-01T17:35:10.287330Z"
    },
    "papermill": {
     "duration": 0.036862,
     "end_time": "2022-03-01T17:36:39.690363",
     "exception": false,
     "start_time": "2022-03-01T17:36:39.653501",
     "status": "completed"
    },
    "tags": []
   },
   "outputs": [],
   "source": [
    "# total area\n",
    "df['building_area'] = df['floor_area'] * df['ELEVATION']\n",
    "# rating energy by floor\n",
    "df['floor_energy_star_rating'] = df['energy_star_rating']/df['ELEVATION']\n"
   ]
  },
  {
   "cell_type": "markdown",
   "id": "58b88370",
   "metadata": {
    "papermill": {
     "duration": 0.026201,
     "end_time": "2022-03-01T17:36:39.743015",
     "exception": false,
     "start_time": "2022-03-01T17:36:39.716814",
     "status": "completed"
    },
    "tags": []
   },
   "source": [
    "## Lag based features:\n",
    "we will compute lagged features values up to three years for the following features:\n",
    "* site_eui\n",
    "* energy_star\n",
    "* ELEVATION\n",
    "* temp features"
   ]
  },
  {
   "cell_type": "code",
   "execution_count": 13,
   "id": "0ad5230d",
   "metadata": {
    "execution": {
     "iopub.execute_input": "2022-03-01T17:36:39.799781Z",
     "iopub.status.busy": "2022-03-01T17:36:39.798859Z",
     "iopub.status.idle": "2022-03-01T17:36:45.996550Z",
     "shell.execute_reply": "2022-03-01T17:36:45.995887Z",
     "shell.execute_reply.started": "2022-03-01T17:35:17.915105Z"
    },
    "papermill": {
     "duration": 6.227241,
     "end_time": "2022-03-01T17:36:45.996713",
     "exception": false,
     "start_time": "2022-03-01T17:36:39.769472",
     "status": "completed"
    },
    "tags": []
   },
   "outputs": [
    {
     "name": "stderr",
     "output_type": "stream",
     "text": [
      "/opt/conda/lib/python3.7/site-packages/ipykernel_launcher.py:9: PerformanceWarning: DataFrame is highly fragmented.  This is usually the result of calling `frame.insert` many times, which has poor performance.  Consider joining all columns at once using pd.concat(axis=1) instead.  To get a de-fragmented frame, use `newframe = frame.copy()`\n",
      "  if __name__ == '__main__':\n",
      "/opt/conda/lib/python3.7/site-packages/ipykernel_launcher.py:5: PerformanceWarning: DataFrame is highly fragmented.  This is usually the result of calling `frame.insert` many times, which has poor performance.  Consider joining all columns at once using pd.concat(axis=1) instead.  To get a de-fragmented frame, use `newframe = frame.copy()`\n",
      "  \"\"\"\n",
      "/opt/conda/lib/python3.7/site-packages/ipykernel_launcher.py:6: PerformanceWarning: DataFrame is highly fragmented.  This is usually the result of calling `frame.insert` many times, which has poor performance.  Consider joining all columns at once using pd.concat(axis=1) instead.  To get a de-fragmented frame, use `newframe = frame.copy()`\n",
      "  \n",
      "/opt/conda/lib/python3.7/site-packages/ipykernel_launcher.py:7: PerformanceWarning: DataFrame is highly fragmented.  This is usually the result of calling `frame.insert` many times, which has poor performance.  Consider joining all columns at once using pd.concat(axis=1) instead.  To get a de-fragmented frame, use `newframe = frame.copy()`\n",
      "  import sys\n"
     ]
    }
   ],
   "source": [
    "\n",
    "temp_features = [col for col in df.columns if 'temp' in col]\n",
    "\n",
    "for lag_year in [1,2,3] :\n",
    "    # building mesh\n",
    "    df[f'site_eui_lag{lag_year}'] = df.groupby(groupby_cols)['site_eui'].shift(lag_year) # because it is sorted by year factor\n",
    "    df[f'energy_star_rating_lag{lag_year}'] = df.groupby(groupby_cols)['energy_star_rating'].shift(lag_year)\n",
    "    df[f'ELEVATION_lag{lag_year}'] = df.groupby(groupby_cols)['ELEVATION'].shift(lag_year)\n",
    "    for temp in temp_features:\n",
    "        df[f'{temp}_lag{lag_year}'] = df.groupby(groupby_cols)[temp].shift(lag_year)"
   ]
  },
  {
   "cell_type": "markdown",
   "id": "09740274",
   "metadata": {
    "papermill": {
     "duration": 0.034266,
     "end_time": "2022-03-01T17:36:46.066881",
     "exception": false,
     "start_time": "2022-03-01T17:36:46.032615",
     "status": "completed"
    },
    "tags": []
   },
   "source": [
    "### Rolling based features :\n",
    "average of feature value through the last 3 years"
   ]
  },
  {
   "cell_type": "code",
   "execution_count": 14,
   "id": "8e396d3e",
   "metadata": {
    "execution": {
     "iopub.execute_input": "2022-03-01T17:36:46.137184Z",
     "iopub.status.busy": "2022-03-01T17:36:46.136591Z",
     "iopub.status.idle": "2022-03-01T17:36:50.512068Z",
     "shell.execute_reply": "2022-03-01T17:36:50.511447Z",
     "shell.execute_reply.started": "2022-03-01T17:35:25.226460Z"
    },
    "papermill": {
     "duration": 4.410153,
     "end_time": "2022-03-01T17:36:50.512201",
     "exception": false,
     "start_time": "2022-03-01T17:36:46.102048",
     "status": "completed"
    },
    "tags": []
   },
   "outputs": [
    {
     "name": "stderr",
     "output_type": "stream",
     "text": [
      "/opt/conda/lib/python3.7/site-packages/ipykernel_launcher.py:4: PerformanceWarning: DataFrame is highly fragmented.  This is usually the result of calling `frame.insert` many times, which has poor performance.  Consider joining all columns at once using pd.concat(axis=1) instead.  To get a de-fragmented frame, use `newframe = frame.copy()`\n",
      "  after removing the cwd from sys.path.\n",
      "/opt/conda/lib/python3.7/site-packages/ipykernel_launcher.py:5: PerformanceWarning: DataFrame is highly fragmented.  This is usually the result of calling `frame.insert` many times, which has poor performance.  Consider joining all columns at once using pd.concat(axis=1) instead.  To get a de-fragmented frame, use `newframe = frame.copy()`\n",
      "  \"\"\"\n",
      "/opt/conda/lib/python3.7/site-packages/ipykernel_launcher.py:6: PerformanceWarning: DataFrame is highly fragmented.  This is usually the result of calling `frame.insert` many times, which has poor performance.  Consider joining all columns at once using pd.concat(axis=1) instead.  To get a de-fragmented frame, use `newframe = frame.copy()`\n",
      "  \n",
      "/opt/conda/lib/python3.7/site-packages/ipykernel_launcher.py:8: PerformanceWarning: DataFrame is highly fragmented.  This is usually the result of calling `frame.insert` many times, which has poor performance.  Consider joining all columns at once using pd.concat(axis=1) instead.  To get a de-fragmented frame, use `newframe = frame.copy()`\n",
      "  \n"
     ]
    }
   ],
   "source": [
    "# rolling average\n",
    "for i in range(1, 3) :\n",
    "    # building mesh\n",
    "    df[f'site_eui_roll_avg{i}'] = df.groupby(groupby_cols)['site_eui'].shift(i).rolling(3).mean()\n",
    "    df[f'energy_star_rating_roll_avg{i}'] = df.groupby(groupby_cols)['energy_star_rating'].shift(i).rolling(3).mean()\n",
    "    df[f'ELEVATION_roll_avg{i}'] = df.groupby(groupby_cols)['ELEVATION'].shift(i).rolling(3).mean()\n",
    "    for temp in temp_features:\n",
    "        df[f'{temp}_roll_avg{i}'] = df.groupby(groupby_cols)[temp].shift(i).rolling(3).mean()"
   ]
  },
  {
   "cell_type": "markdown",
   "id": "837261fb",
   "metadata": {
    "papermill": {
     "duration": 0.028417,
     "end_time": "2022-03-01T17:36:50.569071",
     "exception": false,
     "start_time": "2022-03-01T17:36:50.540654",
     "status": "completed"
    },
    "tags": []
   },
   "source": [
    "## Delta based features\n",
    "Delta current value vs previous year:\n"
   ]
  },
  {
   "cell_type": "code",
   "execution_count": 15,
   "id": "deebc03f",
   "metadata": {
    "execution": {
     "iopub.execute_input": "2022-03-01T17:36:50.628056Z",
     "iopub.status.busy": "2022-03-01T17:36:50.627457Z",
     "iopub.status.idle": "2022-03-01T17:36:50.943528Z",
     "shell.execute_reply": "2022-03-01T17:36:50.944032Z",
     "shell.execute_reply.started": "2022-03-01T17:35:30.438539Z"
    },
    "papermill": {
     "duration": 0.347607,
     "end_time": "2022-03-01T17:36:50.944205",
     "exception": false,
     "start_time": "2022-03-01T17:36:50.596598",
     "status": "completed"
    },
    "tags": []
   },
   "outputs": [
    {
     "name": "stderr",
     "output_type": "stream",
     "text": [
      "/opt/conda/lib/python3.7/site-packages/ipykernel_launcher.py:4: PerformanceWarning: DataFrame is highly fragmented.  This is usually the result of calling `frame.insert` many times, which has poor performance.  Consider joining all columns at once using pd.concat(axis=1) instead.  To get a de-fragmented frame, use `newframe = frame.copy()`\n",
      "  after removing the cwd from sys.path.\n",
      "/opt/conda/lib/python3.7/site-packages/ipykernel_launcher.py:9: PerformanceWarning: DataFrame is highly fragmented.  This is usually the result of calling `frame.insert` many times, which has poor performance.  Consider joining all columns at once using pd.concat(axis=1) instead.  To get a de-fragmented frame, use `newframe = frame.copy()`\n",
      "  if __name__ == '__main__':\n"
     ]
    }
   ],
   "source": [
    "for var in ['site_eui', 'energy_star_rating', 'ELEVATION'] + temp_features:\n",
    "    df[f'delta_{var}_2_1']  = np.where(df[f'{var}_lag2'].notnull() & df[f'{var}_lag1'].notnull() ,\n",
    "                                    abs(df[f'{var}_lag1']-df[f'{var}_lag2'] ) / df[f'{var}_lag2'],\n",
    "                                    np.nan )\n",
    "    # df[f'{var}_lag1'] = df[f'{var}_lag2'] + df[f'{var}_lag2'] * df[f'delta_{var}_2_1']\n",
    "    # we consider df[f'{var}'] = df[f'{var}_lag1'] + df[f'{var}_lag1'] * df[f'delta_{var}_2_1']\n",
    "    df[f'{var}_from_delta2_1']  = np.where(df[f'{var}_lag1'].notnull() ,\n",
    "                                    df[f'{var}_lag1'] + df[f'{var}_lag1'] * df[f'delta_{var}_2_1'],\n",
    "                                    np.nan )"
   ]
  },
  {
   "cell_type": "code",
   "execution_count": 16,
   "id": "717c63da",
   "metadata": {
    "execution": {
     "iopub.execute_input": "2022-03-01T17:36:51.006758Z",
     "iopub.status.busy": "2022-03-01T17:36:51.006008Z",
     "iopub.status.idle": "2022-03-01T17:36:51.015006Z",
     "shell.execute_reply": "2022-03-01T17:36:51.015574Z",
     "shell.execute_reply.started": "2022-03-01T17:35:30.805999Z"
    },
    "papermill": {
     "duration": 0.043066,
     "end_time": "2022-03-01T17:36:51.015749",
     "exception": false,
     "start_time": "2022-03-01T17:36:50.972683",
     "status": "completed"
    },
    "tags": []
   },
   "outputs": [
    {
     "name": "stderr",
     "output_type": "stream",
     "text": [
      "/opt/conda/lib/python3.7/site-packages/ipykernel_launcher.py:1: PerformanceWarning: DataFrame is highly fragmented.  This is usually the result of calling `frame.insert` many times, which has poor performance.  Consider joining all columns at once using pd.concat(axis=1) instead.  To get a de-fragmented frame, use `newframe = frame.copy()`\n",
      "  \"\"\"Entry point for launching an IPython kernel.\n",
      "/opt/conda/lib/python3.7/site-packages/ipykernel_launcher.py:2: PerformanceWarning: DataFrame is highly fragmented.  This is usually the result of calling `frame.insert` many times, which has poor performance.  Consider joining all columns at once using pd.concat(axis=1) instead.  To get a de-fragmented frame, use `newframe = frame.copy()`\n",
      "  \n"
     ]
    }
   ],
   "source": [
    "df['site_eui_coeff'] = (df['energy_star_rating_lag2']* df[f'site_eui_lag1'] - df[f'site_eui_lag2']*df['energy_star_rating_lag2'])/(df['site_eui_lag1'] - df['site_eui_lag2'])\n",
    "df['site_eui_from_site_eui_coeff'] = df['site_eui_coeff']*df[f'site_eui_lag1']\n",
    "\n"
   ]
  },
  {
   "cell_type": "code",
   "execution_count": 17,
   "id": "9c39094d",
   "metadata": {
    "execution": {
     "iopub.execute_input": "2022-03-01T17:36:51.076450Z",
     "iopub.status.busy": "2022-03-01T17:36:51.075552Z",
     "iopub.status.idle": "2022-03-01T17:36:54.318595Z",
     "shell.execute_reply": "2022-03-01T17:36:54.317838Z",
     "shell.execute_reply.started": "2022-03-01T17:35:30.818217Z"
    },
    "papermill": {
     "duration": 3.27506,
     "end_time": "2022-03-01T17:36:54.318783",
     "exception": false,
     "start_time": "2022-03-01T17:36:51.043723",
     "status": "completed"
    },
    "tags": []
   },
   "outputs": [
    {
     "name": "stdout",
     "output_type": "stream",
     "text": [
      "State_Factor\n",
      "mean_site_eui_by_State_Factor_lag1\n",
      "median_site_eui_by_State_Factor_lag1\n",
      "max_site_eui_by_State_Factor_lag1\n",
      "min_site_eui_by_State_Factor_lag1\n",
      "sum_site_eui_by_State_Factor_lag1\n",
      "min_energy_star_rating_by_State_Factor_lag1\n",
      "max_energy_star_rating_by_State_Factor_lag1\n",
      "mean_energy_star_rating_by_State_Factor_lag1\n",
      "median_energy_star_rating_by_State_Factor_lag1\n",
      "count_id_by_State_Factor_lag1\n",
      "(85462, 583)\n",
      "building_class\n",
      "mean_site_eui_by_building_class_lag1\n",
      "median_site_eui_by_building_class_lag1\n",
      "max_site_eui_by_building_class_lag1\n",
      "min_site_eui_by_building_class_lag1\n",
      "sum_site_eui_by_building_class_lag1\n",
      "min_energy_star_rating_by_building_class_lag1\n",
      "max_energy_star_rating_by_building_class_lag1\n",
      "mean_energy_star_rating_by_building_class_lag1\n",
      "median_energy_star_rating_by_building_class_lag1\n",
      "count_id_by_building_class_lag1\n",
      "(85462, 593)\n",
      "facility_type\n",
      "mean_site_eui_by_facility_type_lag1\n",
      "median_site_eui_by_facility_type_lag1\n",
      "max_site_eui_by_facility_type_lag1\n",
      "min_site_eui_by_facility_type_lag1\n",
      "sum_site_eui_by_facility_type_lag1\n",
      "min_energy_star_rating_by_facility_type_lag1\n",
      "max_energy_star_rating_by_facility_type_lag1\n",
      "mean_energy_star_rating_by_facility_type_lag1\n",
      "median_energy_star_rating_by_facility_type_lag1\n",
      "count_id_by_facility_type_lag1\n",
      "(85462, 603)\n",
      "energy_star_rating\n",
      "mean_site_eui_by_energy_star_rating_lag1\n",
      "median_site_eui_by_energy_star_rating_lag1\n",
      "max_site_eui_by_energy_star_rating_lag1\n",
      "min_site_eui_by_energy_star_rating_lag1\n",
      "sum_site_eui_by_energy_star_rating_lag1\n",
      "min_energy_star_rating_by_energy_star_rating_lag1\n",
      "max_energy_star_rating_by_energy_star_rating_lag1\n",
      "mean_energy_star_rating_by_energy_star_rating_lag1\n",
      "median_energy_star_rating_by_energy_star_rating_lag1\n",
      "count_id_by_energy_star_rating_lag1\n",
      "(85462, 613)\n"
     ]
    }
   ],
   "source": [
    "# groupby function\n",
    "for col in ['State_Factor', 'building_class', 'facility_type', 'energy_star_rating']:\n",
    "    print(col)\n",
    "    cols=[col, 'Year_Factor']\n",
    "    tmp = df.sort_values(cols).groupby(cols).agg({\n",
    "                \"site_eui\": ['mean', 'median','max','min','sum']  ,\n",
    "    #            \"year_built\": ['mean', 'median','max','min'] ,\n",
    "                \"energy_star_rating\" : ['min','max','mean', 'median'] ,\n",
    "                \"id\" : \"count\"\n",
    "                          }).shift(1).reset_index()\n",
    "    for idx in tmp.columns:\n",
    "        if idx[1] != '':\n",
    "            print(f'{idx[1]}_{idx[0]}_by_{col}_lag1')\n",
    "            cols.append(f'{idx[1]}_{idx[0]}_by_{col}_lag1')\n",
    "    tmp.columns = cols\n",
    "    df = df.merge(tmp, on=[col, 'Year_Factor'], how='left')\n",
    "    print(df.shape)"
   ]
  },
  {
   "cell_type": "code",
   "execution_count": 18,
   "id": "232f409d",
   "metadata": {
    "execution": {
     "iopub.execute_input": "2022-03-01T17:36:54.389175Z",
     "iopub.status.busy": "2022-03-01T17:36:54.388362Z",
     "iopub.status.idle": "2022-03-01T17:36:55.048494Z",
     "shell.execute_reply": "2022-03-01T17:36:55.047939Z",
     "shell.execute_reply.started": "2022-03-01T17:35:34.209414Z"
    },
    "papermill": {
     "duration": 0.698526,
     "end_time": "2022-03-01T17:36:55.048643",
     "exception": false,
     "start_time": "2022-03-01T17:36:54.350117",
     "status": "completed"
    },
    "tags": []
   },
   "outputs": [
    {
     "data": {
      "text/plain": [
       "Text(0.5, 0, 'Transformed site_eui')"
      ]
     },
     "execution_count": 18,
     "metadata": {},
     "output_type": "execute_result"
    },
    {
     "data": {
      "image/png": "[encoded data removed]",
      "text/plain": [
       "<Figure size 720x504 with 2 Axes>"
      ]
     },
     "metadata": {
      "needs_background": "light"
     },
     "output_type": "display_data"
    }
   ],
   "source": [
    "target = 'site_eui'\n",
    "plt.figure(figsize=(10,7))\n",
    "# plot the original variable vs sale price    \n",
    "plt.subplot(2, 1, 1)\n",
    "train[target].hist(bins=50)\n",
    "plt.ylabel('Count')\n",
    "plt.xlabel('Original ' + target)\n",
    "\n",
    "# plot transformed variable vs sale price\n",
    "plt.subplot(2, 1, 2)\n",
    "np.log(train[target]).hist(bins=50)\n",
    "plt.ylabel('Count')\n",
    "plt.xlabel('Transformed ' + target)\n",
    "\n"
   ]
  },
  {
   "cell_type": "code",
   "execution_count": 19,
   "id": "4c12cb97",
   "metadata": {
    "execution": {
     "iopub.execute_input": "2022-03-01T17:36:55.120591Z",
     "iopub.status.busy": "2022-03-01T17:36:55.119968Z",
     "iopub.status.idle": "2022-03-01T17:36:55.122851Z",
     "shell.execute_reply": "2022-03-01T17:36:55.123334Z",
     "shell.execute_reply.started": "2022-03-01T17:35:34.950862Z"
    },
    "papermill": {
     "duration": 0.043385,
     "end_time": "2022-03-01T17:36:55.123496",
     "exception": false,
     "start_time": "2022-03-01T17:36:55.080111",
     "status": "completed"
    },
    "tags": []
   },
   "outputs": [
    {
     "data": {
      "text/plain": [
       "Year_Factor        True\n",
       "State_Factor      False\n",
       "building_class    False\n",
       "facility_type     False\n",
       "floor_area         True\n",
       "                  ...  \n",
       "max_wind_speed     True\n",
       "days_with_fog      True\n",
       "site_eui           True\n",
       "id                 True\n",
       "source            False\n",
       "Length: 65, dtype: bool"
      ]
     },
     "execution_count": 19,
     "metadata": {},
     "output_type": "execute_result"
    }
   ],
   "source": [
    "train.dtypes != 'object'"
   ]
  },
  {
   "cell_type": "code",
   "execution_count": 20,
   "id": "f6416840",
   "metadata": {
    "execution": {
     "iopub.execute_input": "2022-03-01T17:36:55.190070Z",
     "iopub.status.busy": "2022-03-01T17:36:55.189453Z",
     "iopub.status.idle": "2022-03-01T17:37:05.745134Z",
     "shell.execute_reply": "2022-03-01T17:37:05.745619Z",
     "shell.execute_reply.started": "2022-03-01T17:35:34.960885Z"
    },
    "papermill": {
     "duration": 10.590923,
     "end_time": "2022-03-01T17:37:05.745788",
     "exception": false,
     "start_time": "2022-03-01T17:36:55.154865",
     "status": "completed"
    },
    "tags": []
   },
   "outputs": [
    {
     "data": {
      "image/png": "[encoded data removed]",
      "text/plain": [
       "<Figure size 1440x1440 with 64 Axes>"
      ]
     },
     "metadata": {
      "needs_background": "light"
     },
     "output_type": "display_data"
    }
   ],
   "source": [
    "nums = train.loc[:, train.dtypes != 'object'].columns\n",
    "df[nums].hist(bins=50, figsize=(20,20))\n",
    "plt.show()"
   ]
  },
  {
   "cell_type": "code",
   "execution_count": 21,
   "id": "759b3922",
   "metadata": {
    "execution": {
     "iopub.execute_input": "2022-03-01T17:37:05.822468Z",
     "iopub.status.busy": "2022-03-01T17:37:05.821840Z",
     "iopub.status.idle": "2022-03-01T17:37:05.891314Z",
     "shell.execute_reply": "2022-03-01T17:37:05.890835Z",
     "shell.execute_reply.started": "2022-03-01T17:35:46.991518Z"
    },
    "papermill": {
     "duration": 0.109748,
     "end_time": "2022-03-01T17:37:05.891454",
     "exception": false,
     "start_time": "2022-03-01T17:37:05.781706",
     "status": "completed"
    },
    "tags": []
   },
   "outputs": [
    {
     "data": {
      "text/plain": [
       "days_above_110F    89.873857\n",
       "days_above_100F    24.615438\n",
       "year_built        -11.706906\n",
       "floor_area          6.701786\n",
       "ELEVATION           5.140444\n",
       "dtype: float64"
      ]
     },
     "execution_count": 21,
     "metadata": {},
     "output_type": "execute_result"
    }
   ],
   "source": [
    "df[nums].skew().sort_values(key=abs, ascending=False)[:5]"
   ]
  },
  {
   "cell_type": "markdown",
   "id": "5937cec6",
   "metadata": {
    "papermill": {
     "duration": 0.03562,
     "end_time": "2022-03-01T17:37:05.963365",
     "exception": false,
     "start_time": "2022-03-01T17:37:05.927745",
     "status": "completed"
    },
    "tags": []
   },
   "source": [
    "Binarize very skewed variables"
   ]
  },
  {
   "cell_type": "code",
   "execution_count": 22,
   "id": "3d68c7e5",
   "metadata": {
    "execution": {
     "iopub.execute_input": "2022-03-01T17:37:06.039024Z",
     "iopub.status.busy": "2022-03-01T17:37:06.038447Z",
     "iopub.status.idle": "2022-03-01T17:37:06.044083Z",
     "shell.execute_reply": "2022-03-01T17:37:06.044626Z",
     "shell.execute_reply.started": "2022-03-01T17:35:47.072111Z"
    },
    "papermill": {
     "duration": 0.044756,
     "end_time": "2022-03-01T17:37:06.044785",
     "exception": false,
     "start_time": "2022-03-01T17:37:06.000029",
     "status": "completed"
    },
    "tags": []
   },
   "outputs": [],
   "source": [
    "skewed = [\n",
    "    'days_above_110F', 'days_above_100F'\n",
    "]\n",
    "\n",
    "for var in skewed:\n",
    "    \n",
    "    # map the variable values into 0 and 1\n",
    "    df[var] = np.where(df[var]==0, 0, 1)"
   ]
  },
  {
   "cell_type": "code",
   "execution_count": 23,
   "id": "104fe43d",
   "metadata": {
    "execution": {
     "iopub.execute_input": "2022-03-01T17:37:06.119163Z",
     "iopub.status.busy": "2022-03-01T17:37:06.118561Z",
     "iopub.status.idle": "2022-03-01T17:37:18.501552Z",
     "shell.execute_reply": "2022-03-01T17:37:18.502207Z",
     "shell.execute_reply.started": "2022-02-07T08:39:22.982265Z"
    },
    "papermill": {
     "duration": 12.421973,
     "end_time": "2022-03-01T17:37:18.502420",
     "exception": false,
     "start_time": "2022-03-01T17:37:06.080447",
     "status": "completed"
    },
    "tags": []
   },
   "outputs": [
    {
     "name": "stdout",
     "output_type": "stream",
     "text": [
      "Collecting pickle5\r\n",
      "  Downloading pickle5-0.0.12-cp37-cp37m-manylinux_2_5_x86_64.manylinux1_x86_64.whl (256 kB)\r\n",
      "     |████████████████████████████████| 256 kB 3.1 MB/s            \r\n",
      "\u001b[?25hInstalling collected packages: pickle5\r\n",
      "Successfully installed pickle5-0.0.12\r\n",
      "\u001b[33mWARNING: Running pip as the 'root' user can result in broken permissions and conflicting behaviour with the system package manager. It is recommended to use a virtual environment instead: https://pip.pypa.io/warnings/venv\u001b[0m\r\n"
     ]
    }
   ],
   "source": [
    "# save data\n",
    "saved = True\n",
    "if saved:\n",
    "    !pip3 install pickle5\n",
    "    import pickle5 as pickle\n",
    "    data_path = '../input/feature-engineering-wids2022/feature_engineering.pkl'\n",
    "    with open(data_path, \"rb\") as fh:\n",
    "        df = pickle.load(fh)\n",
    "else:\n",
    "    df.to_pickle('../feature_engineering.pkl')"
   ]
  },
  {
   "cell_type": "code",
   "execution_count": null,
   "id": "858b00b4",
   "metadata": {
    "papermill": {
     "duration": 0.03753,
     "end_time": "2022-03-01T17:37:18.577736",
     "exception": false,
     "start_time": "2022-03-01T17:37:18.540206",
     "status": "completed"
    },
    "tags": []
   },
   "outputs": [],
   "source": []
  },
  {
   "cell_type": "code",
   "execution_count": 24,
   "id": "1f49ee49",
   "metadata": {
    "execution": {
     "iopub.execute_input": "2022-03-01T17:37:18.657592Z",
     "iopub.status.busy": "2022-03-01T17:37:18.656611Z",
     "iopub.status.idle": "2022-03-01T17:37:18.661751Z",
     "shell.execute_reply": "2022-03-01T17:37:18.662310Z",
     "shell.execute_reply.started": "2022-02-07T10:48:57.623206Z"
    },
    "papermill": {
     "duration": 0.047517,
     "end_time": "2022-03-01T17:37:18.662472",
     "exception": false,
     "start_time": "2022-03-01T17:37:18.614955",
     "status": "completed"
    },
    "tags": []
   },
   "outputs": [
    {
     "data": {
      "text/plain": [
       "(85462, 613)"
      ]
     },
     "execution_count": 24,
     "metadata": {},
     "output_type": "execute_result"
    }
   ],
   "source": [
    "# later\n",
    "\n",
    "df.shape"
   ]
  },
  {
   "cell_type": "code",
   "execution_count": 25,
   "id": "ba257a68",
   "metadata": {
    "execution": {
     "iopub.execute_input": "2022-03-01T17:37:18.741407Z",
     "iopub.status.busy": "2022-03-01T17:37:18.740443Z",
     "iopub.status.idle": "2022-03-01T17:37:18.771996Z",
     "shell.execute_reply": "2022-03-01T17:37:18.772502Z",
     "shell.execute_reply.started": "2022-02-07T10:48:59.286372Z"
    },
    "papermill": {
     "duration": 0.072911,
     "end_time": "2022-03-01T17:37:18.772681",
     "exception": false,
     "start_time": "2022-03-01T17:37:18.699770",
     "status": "completed"
    },
    "tags": []
   },
   "outputs": [
    {
     "data": {
      "text/html": [
       "<div>\n",
       "<style scoped>\n",
       "    .dataframe tbody tr th:only-of-type {\n",
       "        vertical-align: middle;\n",
       "    }\n",
       "\n",
       "    .dataframe tbody tr th {\n",
       "        vertical-align: top;\n",
       "    }\n",
       "\n",
       "    .dataframe thead th {\n",
       "        text-align: right;\n",
       "    }\n",
       "</style>\n",
       "<table border=\"1\" class=\"dataframe\">\n",
       "  <thead>\n",
       "    <tr style=\"text-align: right;\">\n",
       "      <th></th>\n",
       "      <th>Year_Factor</th>\n",
       "      <th>floor_area</th>\n",
       "      <th>year_built</th>\n",
       "      <th>energy_star_rating</th>\n",
       "      <th>ELEVATION</th>\n",
       "      <th>january_min_temp</th>\n",
       "      <th>january_avg_temp</th>\n",
       "      <th>january_max_temp</th>\n",
       "      <th>february_min_temp</th>\n",
       "      <th>february_avg_temp</th>\n",
       "      <th>...</th>\n",
       "      <th>sum_site_eui_by_energy_star_rating_lag1</th>\n",
       "      <th>min_energy_star_rating_by_energy_star_rating_lag1</th>\n",
       "      <th>max_energy_star_rating_by_energy_star_rating_lag1</th>\n",
       "      <th>mean_energy_star_rating_by_energy_star_rating_lag1</th>\n",
       "      <th>median_energy_star_rating_by_energy_star_rating_lag1</th>\n",
       "      <th>count_id_by_energy_star_rating_lag1</th>\n",
       "      <th>month_cooling_degree_days</th>\n",
       "      <th>month_heating_degree_days</th>\n",
       "      <th>building_area</th>\n",
       "      <th>floor_energy_star_rating</th>\n",
       "    </tr>\n",
       "  </thead>\n",
       "  <tbody>\n",
       "    <tr>\n",
       "      <th>0</th>\n",
       "      <td>3.0</td>\n",
       "      <td>10149.0</td>\n",
       "      <td>1931.0</td>\n",
       "      <td>38.428571</td>\n",
       "      <td>45.7</td>\n",
       "      <td>26.0</td>\n",
       "      <td>44.516129</td>\n",
       "      <td>64.0</td>\n",
       "      <td>30.0</td>\n",
       "      <td>49.392857</td>\n",
       "      <td>...</td>\n",
       "      <td>854.963254</td>\n",
       "      <td>38.428571</td>\n",
       "      <td>38.428571</td>\n",
       "      <td>38.428571</td>\n",
       "      <td>38.428571</td>\n",
       "      <td>9.0</td>\n",
       "      <td>68.833333</td>\n",
       "      <td>211.833333</td>\n",
       "      <td>463809.3</td>\n",
       "      <td>0.840888</td>\n",
       "    </tr>\n",
       "    <tr>\n",
       "      <th>1</th>\n",
       "      <td>4.0</td>\n",
       "      <td>10149.0</td>\n",
       "      <td>1931.0</td>\n",
       "      <td>43.571429</td>\n",
       "      <td>120.4</td>\n",
       "      <td>41.0</td>\n",
       "      <td>55.096774</td>\n",
       "      <td>73.0</td>\n",
       "      <td>42.0</td>\n",
       "      <td>54.875000</td>\n",
       "      <td>...</td>\n",
       "      <td>1068.909483</td>\n",
       "      <td>43.571429</td>\n",
       "      <td>43.571429</td>\n",
       "      <td>43.571429</td>\n",
       "      <td>43.571429</td>\n",
       "      <td>13.0</td>\n",
       "      <td>41.416667</td>\n",
       "      <td>123.083333</td>\n",
       "      <td>1221939.6</td>\n",
       "      <td>0.361889</td>\n",
       "    </tr>\n",
       "    <tr>\n",
       "      <th>2</th>\n",
       "      <td>5.0</td>\n",
       "      <td>10149.0</td>\n",
       "      <td>1931.0</td>\n",
       "      <td>37.571429</td>\n",
       "      <td>59.1</td>\n",
       "      <td>29.0</td>\n",
       "      <td>51.387097</td>\n",
       "      <td>77.0</td>\n",
       "      <td>36.0</td>\n",
       "      <td>56.803571</td>\n",
       "      <td>...</td>\n",
       "      <td>373.562641</td>\n",
       "      <td>37.571429</td>\n",
       "      <td>37.571429</td>\n",
       "      <td>37.571429</td>\n",
       "      <td>37.571429</td>\n",
       "      <td>6.0</td>\n",
       "      <td>109.916667</td>\n",
       "      <td>151.916667</td>\n",
       "      <td>599805.9</td>\n",
       "      <td>0.635726</td>\n",
       "    </tr>\n",
       "    <tr>\n",
       "      <th>3</th>\n",
       "      <td>7.0</td>\n",
       "      <td>10149.0</td>\n",
       "      <td>1931.0</td>\n",
       "      <td>60.285714</td>\n",
       "      <td>59.1</td>\n",
       "      <td>38.0</td>\n",
       "      <td>50.596774</td>\n",
       "      <td>64.0</td>\n",
       "      <td>40.0</td>\n",
       "      <td>54.482143</td>\n",
       "      <td>...</td>\n",
       "      <td>1815.692535</td>\n",
       "      <td>60.285714</td>\n",
       "      <td>60.285714</td>\n",
       "      <td>60.285714</td>\n",
       "      <td>60.285714</td>\n",
       "      <td>17.0</td>\n",
       "      <td>28.500000</td>\n",
       "      <td>176.000000</td>\n",
       "      <td>599805.9</td>\n",
       "      <td>1.020063</td>\n",
       "    </tr>\n",
       "    <tr>\n",
       "      <th>4</th>\n",
       "      <td>3.0</td>\n",
       "      <td>10755.0</td>\n",
       "      <td>1937.0</td>\n",
       "      <td>45.571429</td>\n",
       "      <td>9.1</td>\n",
       "      <td>22.0</td>\n",
       "      <td>44.790323</td>\n",
       "      <td>65.0</td>\n",
       "      <td>25.0</td>\n",
       "      <td>47.892857</td>\n",
       "      <td>...</td>\n",
       "      <td>1877.696982</td>\n",
       "      <td>45.571429</td>\n",
       "      <td>45.571429</td>\n",
       "      <td>45.571429</td>\n",
       "      <td>45.571429</td>\n",
       "      <td>21.0</td>\n",
       "      <td>25.250000</td>\n",
       "      <td>259.000000</td>\n",
       "      <td>97870.5</td>\n",
       "      <td>5.007849</td>\n",
       "    </tr>\n",
       "  </tbody>\n",
       "</table>\n",
       "<p>5 rows × 613 columns</p>\n",
       "</div>"
      ],
      "text/plain": [
       "   Year_Factor  floor_area  year_built  energy_star_rating  ELEVATION  \\\n",
       "0          3.0     10149.0      1931.0           38.428571       45.7   \n",
       "1          4.0     10149.0      1931.0           43.571429      120.4   \n",
       "2          5.0     10149.0      1931.0           37.571429       59.1   \n",
       "3          7.0     10149.0      1931.0           60.285714       59.1   \n",
       "4          3.0     10755.0      1937.0           45.571429        9.1   \n",
       "\n",
       "   january_min_temp  january_avg_temp  january_max_temp  february_min_temp  \\\n",
       "0              26.0         44.516129              64.0               30.0   \n",
       "1              41.0         55.096774              73.0               42.0   \n",
       "2              29.0         51.387097              77.0               36.0   \n",
       "3              38.0         50.596774              64.0               40.0   \n",
       "4              22.0         44.790323              65.0               25.0   \n",
       "\n",
       "   february_avg_temp  ...  sum_site_eui_by_energy_star_rating_lag1  \\\n",
       "0          49.392857  ...                               854.963254   \n",
       "1          54.875000  ...                              1068.909483   \n",
       "2          56.803571  ...                               373.562641   \n",
       "3          54.482143  ...                              1815.692535   \n",
       "4          47.892857  ...                              1877.696982   \n",
       "\n",
       "   min_energy_star_rating_by_energy_star_rating_lag1  \\\n",
       "0                                          38.428571   \n",
       "1                                          43.571429   \n",
       "2                                          37.571429   \n",
       "3                                          60.285714   \n",
       "4                                          45.571429   \n",
       "\n",
       "   max_energy_star_rating_by_energy_star_rating_lag1  \\\n",
       "0                                          38.428571   \n",
       "1                                          43.571429   \n",
       "2                                          37.571429   \n",
       "3                                          60.285714   \n",
       "4                                          45.571429   \n",
       "\n",
       "   mean_energy_star_rating_by_energy_star_rating_lag1  \\\n",
       "0                                          38.428571    \n",
       "1                                          43.571429    \n",
       "2                                          37.571429    \n",
       "3                                          60.285714    \n",
       "4                                          45.571429    \n",
       "\n",
       "   median_energy_star_rating_by_energy_star_rating_lag1  \\\n",
       "0                                          38.428571      \n",
       "1                                          43.571429      \n",
       "2                                          37.571429      \n",
       "3                                          60.285714      \n",
       "4                                          45.571429      \n",
       "\n",
       "   count_id_by_energy_star_rating_lag1  month_cooling_degree_days  \\\n",
       "0                                  9.0                  68.833333   \n",
       "1                                 13.0                  41.416667   \n",
       "2                                  6.0                 109.916667   \n",
       "3                                 17.0                  28.500000   \n",
       "4                                 21.0                  25.250000   \n",
       "\n",
       "   month_heating_degree_days  building_area  floor_energy_star_rating  \n",
       "0                 211.833333       463809.3                  0.840888  \n",
       "1                 123.083333      1221939.6                  0.361889  \n",
       "2                 151.916667       599805.9                  0.635726  \n",
       "3                 176.000000       599805.9                  1.020063  \n",
       "4                 259.000000        97870.5                  5.007849  \n",
       "\n",
       "[5 rows x 613 columns]"
      ]
     },
     "execution_count": 25,
     "metadata": {},
     "output_type": "execute_result"
    }
   ],
   "source": [
    "df.head()"
   ]
  },
  {
   "cell_type": "markdown",
   "id": "90b41f50",
   "metadata": {
    "papermill": {
     "duration": 0.03777,
     "end_time": "2022-03-01T17:37:18.848894",
     "exception": false,
     "start_time": "2022-03-01T17:37:18.811124",
     "status": "completed"
    },
    "tags": []
   },
   "source": [
    "## Catboost"
   ]
  },
  {
   "cell_type": "code",
   "execution_count": 26,
   "id": "35c11a39",
   "metadata": {
    "execution": {
     "iopub.execute_input": "2022-03-01T17:37:18.929523Z",
     "iopub.status.busy": "2022-03-01T17:37:18.928905Z",
     "iopub.status.idle": "2022-03-01T17:37:19.273376Z",
     "shell.execute_reply": "2022-03-01T17:37:19.273835Z",
     "shell.execute_reply.started": "2022-02-07T10:49:09.558919Z"
    },
    "papermill": {
     "duration": 0.386582,
     "end_time": "2022-03-01T17:37:19.274016",
     "exception": false,
     "start_time": "2022-03-01T17:37:18.887434",
     "status": "completed"
    },
    "tags": []
   },
   "outputs": [],
   "source": [
    "train = df[df['source']=='train']\n",
    "test = df[df['source']=='train']\n",
    "\n",
    "cats = ['State_Factor', 'facility_type', 'building_class']\n",
    "    \n"
   ]
  },
  {
   "cell_type": "code",
   "execution_count": null,
   "id": "33336f78",
   "metadata": {
    "papermill": {
     "duration": 0.038438,
     "end_time": "2022-03-01T17:37:19.350561",
     "exception": false,
     "start_time": "2022-03-01T17:37:19.312123",
     "status": "completed"
    },
    "tags": []
   },
   "outputs": [],
   "source": [
    "\n"
   ]
  },
  {
   "cell_type": "code",
   "execution_count": 27,
   "id": "fb957407",
   "metadata": {
    "execution": {
     "iopub.execute_input": "2022-03-01T17:37:19.430367Z",
     "iopub.status.busy": "2022-03-01T17:37:19.429733Z",
     "iopub.status.idle": "2022-03-01T17:37:20.399403Z",
     "shell.execute_reply": "2022-03-01T17:37:20.398846Z",
     "shell.execute_reply.started": "2022-02-07T08:39:50.030667Z"
    },
    "papermill": {
     "duration": 1.010604,
     "end_time": "2022-03-01T17:37:20.399578",
     "exception": false,
     "start_time": "2022-03-01T17:37:19.388974",
     "status": "completed"
    },
    "tags": []
   },
   "outputs": [],
   "source": [
    "train = train.reset_index(drop=True)\n",
    "test = test.reset_index(drop=True)\n",
    "test_ids = test['id']\n",
    "train_ids = train['id']\n",
    "target = train['site_eui']\n",
    "train = train.drop(['id', 'source', 'site_eui'], axis=1)#['id', 'source', 'Year_Factor', target]+cats\n",
    "test = test.drop(['id', 'source', 'site_eui'], axis=1)\n",
    "\n",
    "# get discrete end categorical features colums indexes \n",
    "# needed later for the cat bosst model\n",
    "cats_discrete_idx = np.where(train.dtypes != 'float64')[0]\n",
    "# create the label\n",
    "le = LabelEncoder()\n",
    "for col_idx in cats_discrete_idx:\n",
    "    train.iloc[:, col_idx] = le.fit_transform(train.iloc[:, col_idx].astype(str))\n",
    "    test.iloc[:, col_idx] = le.transform(test.iloc[:, col_idx].astype(str))"
   ]
  },
  {
   "cell_type": "code",
   "execution_count": 28,
   "id": "ad35962b",
   "metadata": {
    "execution": {
     "iopub.execute_input": "2022-03-01T17:37:20.484541Z",
     "iopub.status.busy": "2022-03-01T17:37:20.483701Z",
     "iopub.status.idle": "2022-03-01T17:37:20.488326Z",
     "shell.execute_reply": "2022-03-01T17:37:20.487833Z",
     "shell.execute_reply.started": "2022-02-07T08:39:51.412552Z"
    },
    "papermill": {
     "duration": 0.048842,
     "end_time": "2022-03-01T17:37:20.488470",
     "exception": false,
     "start_time": "2022-03-01T17:37:20.439628",
     "status": "completed"
    },
    "tags": []
   },
   "outputs": [
    {
     "name": "stdout",
     "output_type": "stream",
     "text": [
      "days_above_100F\n",
      "days_above_110F\n",
      "State_Factor\n",
      "building_class\n",
      "facility_type\n"
     ]
    }
   ],
   "source": [
    "for i in cats_discrete_idx:\n",
    "    print(train.columns[i])"
   ]
  },
  {
   "cell_type": "code",
   "execution_count": 29,
   "id": "eef17b91",
   "metadata": {
    "execution": {
     "iopub.execute_input": "2022-03-01T17:37:20.573327Z",
     "iopub.status.busy": "2022-03-01T17:37:20.572673Z",
     "iopub.status.idle": "2022-03-01T17:37:20.575733Z",
     "shell.execute_reply": "2022-03-01T17:37:20.575065Z",
     "shell.execute_reply.started": "2022-02-07T08:39:52.162583Z"
    },
    "papermill": {
     "duration": 0.047701,
     "end_time": "2022-03-01T17:37:20.575888",
     "exception": false,
     "start_time": "2022-03-01T17:37:20.528187",
     "status": "completed"
    },
    "tags": []
   },
   "outputs": [],
   "source": [
    "# prepaere the out of folds predictions \n",
    "train_oof = np.zeros((train.shape[0],))\n",
    "test_preds = np.zeros(test.shape[0])"
   ]
  },
  {
   "cell_type": "code",
   "execution_count": 30,
   "id": "b7a29442",
   "metadata": {
    "execution": {
     "iopub.execute_input": "2022-03-01T17:37:20.664049Z",
     "iopub.status.busy": "2022-03-01T17:37:20.663354Z",
     "iopub.status.idle": "2022-03-01T19:21:10.180804Z",
     "shell.execute_reply": "2022-03-01T19:21:10.181617Z",
     "shell.execute_reply.started": "2022-02-07T08:57:24.7433Z"
    },
    "papermill": {
     "duration": 6229.566373,
     "end_time": "2022-03-01T19:21:10.181923",
     "exception": false,
     "start_time": "2022-03-01T17:37:20.615550",
     "status": "completed"
    },
    "tags": []
   },
   "outputs": [
    {
     "name": "stderr",
     "output_type": "stream",
     "text": [
      "0it [00:00, ?it/s]Warning: Overfitting detector is active, thus evaluation metric is calculated on every iteration. 'metric_period' is ignored for evaluation metric.\n"
     ]
    },
    {
     "name": "stdout",
     "output_type": "stream",
     "text": [
      "0:\tlearn: 58.0132553\ttest: 55.0654005\tbest: 55.0654005 (0)\ttotal: 1.31s\tremaining: 10m 52s\n",
      "75:\tlearn: 40.6753874\ttest: 37.3892947\tbest: 37.3892947 (75)\ttotal: 1m 34s\tremaining: 8m 46s\n",
      "150:\tlearn: 37.3421982\ttest: 34.9011462\tbest: 34.9011462 (150)\ttotal: 3m 7s\tremaining: 7m 13s\n",
      "225:\tlearn: 36.0305934\ttest: 34.3268848\tbest: 34.3268848 (225)\ttotal: 4m 41s\tremaining: 5m 40s\n",
      "300:\tlearn: 35.2205195\ttest: 34.0774834\tbest: 34.0774834 (300)\ttotal: 6m 15s\tremaining: 4m 8s\n",
      "375:\tlearn: 34.5463736\ttest: 33.9247798\tbest: 33.9238079 (373)\ttotal: 7m 49s\tremaining: 2m 34s\n",
      "450:\tlearn: 34.0340825\ttest: 33.8331173\tbest: 33.8325336 (448)\ttotal: 9m 21s\tremaining: 1m 1s\n",
      "499:\tlearn: 33.7493584\ttest: 33.8071608\tbest: 33.8056877 (493)\ttotal: 10m 21s\tremaining: 0us\n",
      "\n",
      "bestTest = 33.80568769\n",
      "bestIteration = 493\n",
      "\n",
      "Shrink model to first 494 iterations.\n"
     ]
    },
    {
     "name": "stderr",
     "output_type": "stream",
     "text": [
      "1it [10:23, 623.59s/it]"
     ]
    },
    {
     "name": "stdout",
     "output_type": "stream",
     "text": [
      "out-of-folds prdiction ==== fold_0 RMSE 5.814265882127027\n"
     ]
    },
    {
     "name": "stderr",
     "output_type": "stream",
     "text": [
      "Warning: Overfitting detector is active, thus evaluation metric is calculated on every iteration. 'metric_period' is ignored for evaluation metric.\n"
     ]
    },
    {
     "name": "stdout",
     "output_type": "stream",
     "text": [
      "0:\tlearn: 57.6139957\ttest: 58.6434624\tbest: 58.6434624 (0)\ttotal: 1.3s\tremaining: 10m 49s\n",
      "75:\tlearn: 40.3929489\ttest: 41.8770796\tbest: 41.8770796 (75)\ttotal: 1m 37s\tremaining: 9m 3s\n",
      "150:\tlearn: 37.0293625\ttest: 39.3562322\tbest: 39.3562322 (150)\ttotal: 3m 11s\tremaining: 7m 23s\n",
      "225:\tlearn: 35.7077431\ttest: 38.6899686\tbest: 38.6899686 (225)\ttotal: 4m 45s\tremaining: 5m 46s\n",
      "300:\tlearn: 34.8893668\ttest: 38.4268482\tbest: 38.4268482 (300)\ttotal: 6m 19s\tremaining: 4m 10s\n",
      "375:\tlearn: 34.2740162\ttest: 38.2450599\tbest: 38.2450599 (375)\ttotal: 7m 51s\tremaining: 2m 35s\n",
      "450:\tlearn: 33.7306381\ttest: 38.1553219\tbest: 38.1546456 (449)\ttotal: 9m 23s\tremaining: 1m 1s\n",
      "499:\tlearn: 33.4311191\ttest: 38.0966137\tbest: 38.0966137 (499)\ttotal: 10m 23s\tremaining: 0us\n",
      "\n",
      "bestTest = 38.09661365\n",
      "bestIteration = 499\n",
      "\n"
     ]
    },
    {
     "name": "stderr",
     "output_type": "stream",
     "text": [
      "2it [20:48, 624.40s/it]"
     ]
    },
    {
     "name": "stdout",
     "output_type": "stream",
     "text": [
      "out-of-folds prdiction ==== fold_1 RMSE 6.172245420939534\n"
     ]
    },
    {
     "name": "stderr",
     "output_type": "stream",
     "text": [
      "Warning: Overfitting detector is active, thus evaluation metric is calculated on every iteration. 'metric_period' is ignored for evaluation metric.\n"
     ]
    },
    {
     "name": "stdout",
     "output_type": "stream",
     "text": [
      "0:\tlearn: 57.3437010\ttest: 60.9402276\tbest: 60.9402276 (0)\ttotal: 1.28s\tremaining: 10m 40s\n",
      "75:\tlearn: 40.1493414\ttest: 44.0045660\tbest: 44.0045660 (75)\ttotal: 1m 36s\tremaining: 8m 59s\n",
      "150:\tlearn: 36.9587540\ttest: 41.1780935\tbest: 41.1780935 (150)\ttotal: 3m 10s\tremaining: 7m 20s\n",
      "225:\tlearn: 35.7437638\ttest: 40.4319670\tbest: 40.4319670 (225)\ttotal: 4m 43s\tremaining: 5m 43s\n",
      "300:\tlearn: 35.0134671\ttest: 40.0584263\tbest: 40.0584263 (300)\ttotal: 6m 15s\tremaining: 4m 8s\n",
      "375:\tlearn: 34.3721724\ttest: 39.8118675\tbest: 39.8118675 (375)\ttotal: 7m 49s\tremaining: 2m 34s\n",
      "450:\tlearn: 33.8800323\ttest: 39.6569044\tbest: 39.6554116 (448)\ttotal: 9m 22s\tremaining: 1m 1s\n",
      "499:\tlearn: 33.4682547\ttest: 39.5403956\tbest: 39.5403956 (499)\ttotal: 10m 23s\tremaining: 0us\n",
      "\n",
      "bestTest = 39.54039563\n",
      "bestIteration = 499\n",
      "\n"
     ]
    },
    {
     "name": "stderr",
     "output_type": "stream",
     "text": [
      "3it [31:14, 624.93s/it]"
     ]
    },
    {
     "name": "stdout",
     "output_type": "stream",
     "text": [
      "out-of-folds prdiction ==== fold_2 RMSE 6.288115414872863\n"
     ]
    },
    {
     "name": "stderr",
     "output_type": "stream",
     "text": [
      "Warning: Overfitting detector is active, thus evaluation metric is calculated on every iteration. 'metric_period' is ignored for evaluation metric.\n"
     ]
    },
    {
     "name": "stdout",
     "output_type": "stream",
     "text": [
      "0:\tlearn: 58.1679530\ttest: 53.3657281\tbest: 53.3657281 (0)\ttotal: 1.24s\tremaining: 10m 17s\n",
      "75:\tlearn: 40.6621582\ttest: 37.1083923\tbest: 37.1083923 (75)\ttotal: 1m 36s\tremaining: 8m 55s\n",
      "150:\tlearn: 37.3472689\ttest: 35.0071890\tbest: 35.0071890 (150)\ttotal: 3m 10s\tremaining: 7m 21s\n",
      "225:\tlearn: 36.0668675\ttest: 34.5059691\tbest: 34.5059691 (225)\ttotal: 4m 44s\tremaining: 5m 45s\n",
      "300:\tlearn: 35.3088144\ttest: 34.2952183\tbest: 34.2952183 (300)\ttotal: 6m 19s\tremaining: 4m 10s\n",
      "375:\tlearn: 34.5986741\ttest: 34.1155705\tbest: 34.1155705 (375)\ttotal: 7m 52s\tremaining: 2m 35s\n",
      "450:\tlearn: 34.0095339\ttest: 34.0017370\tbest: 33.9986433 (447)\ttotal: 9m 23s\tremaining: 1m 1s\n",
      "499:\tlearn: 33.6239843\ttest: 33.9449719\tbest: 33.9449719 (499)\ttotal: 10m 22s\tremaining: 0us\n",
      "\n",
      "bestTest = 33.94497188\n",
      "bestIteration = 499\n",
      "\n"
     ]
    },
    {
     "name": "stderr",
     "output_type": "stream",
     "text": [
      "4it [41:38, 624.80s/it]"
     ]
    },
    {
     "name": "stdout",
     "output_type": "stream",
     "text": [
      "out-of-folds prdiction ==== fold_3 RMSE 5.8262313652892095\n"
     ]
    },
    {
     "name": "stderr",
     "output_type": "stream",
     "text": [
      "Warning: Overfitting detector is active, thus evaluation metric is calculated on every iteration. 'metric_period' is ignored for evaluation metric.\n"
     ]
    },
    {
     "name": "stdout",
     "output_type": "stream",
     "text": [
      "0:\tlearn: 57.3118511\ttest: 61.2960622\tbest: 61.2960622 (0)\ttotal: 1.24s\tremaining: 10m 18s\n",
      "75:\tlearn: 39.8167019\ttest: 45.9254963\tbest: 45.9254963 (75)\ttotal: 1m 35s\tremaining: 8m 55s\n",
      "150:\tlearn: 36.4135644\ttest: 43.8458843\tbest: 43.8458843 (150)\ttotal: 3m 10s\tremaining: 7m 20s\n",
      "225:\tlearn: 35.0574173\ttest: 43.4341486\tbest: 43.4341486 (225)\ttotal: 4m 42s\tremaining: 5m 43s\n",
      "300:\tlearn: 34.3897826\ttest: 43.2716198\tbest: 43.2716198 (300)\ttotal: 6m 9s\tremaining: 4m 4s\n",
      "375:\tlearn: 33.8790846\ttest: 43.1863293\tbest: 43.1863293 (375)\ttotal: 7m 38s\tremaining: 2m 31s\n",
      "450:\tlearn: 33.2648978\ttest: 43.0697656\tbest: 43.0695806 (449)\ttotal: 9m 8s\tremaining: 59.6s\n",
      "499:\tlearn: 32.8957303\ttest: 43.0239224\tbest: 43.0236031 (497)\ttotal: 10m 9s\tremaining: 0us\n",
      "\n",
      "bestTest = 43.02360313\n",
      "bestIteration = 497\n",
      "\n",
      "Shrink model to first 498 iterations.\n"
     ]
    },
    {
     "name": "stderr",
     "output_type": "stream",
     "text": [
      "5it [51:49, 619.71s/it]"
     ]
    },
    {
     "name": "stdout",
     "output_type": "stream",
     "text": [
      "out-of-folds prdiction ==== fold_4 RMSE 6.5592379979087925\n"
     ]
    },
    {
     "name": "stderr",
     "output_type": "stream",
     "text": [
      "Warning: Overfitting detector is active, thus evaluation metric is calculated on every iteration. 'metric_period' is ignored for evaluation metric.\n"
     ]
    },
    {
     "name": "stdout",
     "output_type": "stream",
     "text": [
      "0:\tlearn: 57.9711430\ttest: 55.4362299\tbest: 55.4362299 (0)\ttotal: 1.28s\tremaining: 10m 40s\n",
      "75:\tlearn: 40.6799651\ttest: 38.2147990\tbest: 38.2147990 (75)\ttotal: 1m 35s\tremaining: 8m 53s\n",
      "150:\tlearn: 37.4499155\ttest: 35.6897642\tbest: 35.6897642 (150)\ttotal: 3m 9s\tremaining: 7m 18s\n",
      "225:\tlearn: 36.1437378\ttest: 35.0843912\tbest: 35.0843912 (225)\ttotal: 4m 43s\tremaining: 5m 43s\n",
      "300:\tlearn: 35.3333072\ttest: 34.7862659\tbest: 34.7862659 (300)\ttotal: 6m 16s\tremaining: 4m 9s\n",
      "375:\tlearn: 34.7322701\ttest: 34.6397586\tbest: 34.6397586 (375)\ttotal: 7m 49s\tremaining: 2m 34s\n",
      "450:\tlearn: 34.2363292\ttest: 34.5284092\tbest: 34.5284092 (450)\ttotal: 9m 23s\tremaining: 1m 1s\n",
      "499:\tlearn: 33.9094862\ttest: 34.4767477\tbest: 34.4759562 (493)\ttotal: 10m 23s\tremaining: 0us\n",
      "\n",
      "bestTest = 34.47595619\n",
      "bestIteration = 493\n",
      "\n",
      "Shrink model to first 494 iterations.\n"
     ]
    },
    {
     "name": "stderr",
     "output_type": "stream",
     "text": [
      "6it [1:02:14, 621.60s/it]"
     ]
    },
    {
     "name": "stdout",
     "output_type": "stream",
     "text": [
      "out-of-folds prdiction ==== fold_5 RMSE 5.871622968509301\n"
     ]
    },
    {
     "name": "stderr",
     "output_type": "stream",
     "text": [
      "Warning: Overfitting detector is active, thus evaluation metric is calculated on every iteration. 'metric_period' is ignored for evaluation metric.\n"
     ]
    },
    {
     "name": "stdout",
     "output_type": "stream",
     "text": [
      "0:\tlearn: 57.5083236\ttest: 59.6652482\tbest: 59.6652482 (0)\ttotal: 1.25s\tremaining: 10m 26s\n",
      "75:\tlearn: 40.0845426\ttest: 43.8321944\tbest: 43.8321944 (75)\ttotal: 1m 35s\tremaining: 8m 54s\n",
      "150:\tlearn: 36.6767493\ttest: 41.5195940\tbest: 41.5195940 (150)\ttotal: 3m 10s\tremaining: 7m 20s\n",
      "225:\tlearn: 35.3243814\ttest: 40.9776579\tbest: 40.9776579 (225)\ttotal: 4m 44s\tremaining: 5m 44s\n",
      "300:\tlearn: 34.5771621\ttest: 40.7389408\tbest: 40.7379895 (298)\ttotal: 6m 17s\tremaining: 4m 9s\n",
      "375:\tlearn: 33.9927242\ttest: 40.6257327\tbest: 40.6250311 (373)\ttotal: 7m 51s\tremaining: 2m 35s\n",
      "450:\tlearn: 33.4403884\ttest: 40.5601582\tbest: 40.5575423 (440)\ttotal: 9m 25s\tremaining: 1m 1s\n",
      "499:\tlearn: 33.1738160\ttest: 40.5309409\tbest: 40.5308966 (498)\ttotal: 10m 26s\tremaining: 0us\n",
      "\n",
      "bestTest = 40.53089658\n",
      "bestIteration = 498\n",
      "\n",
      "Shrink model to first 499 iterations.\n"
     ]
    },
    {
     "name": "stderr",
     "output_type": "stream",
     "text": [
      "7it [1:12:43, 623.86s/it]"
     ]
    },
    {
     "name": "stdout",
     "output_type": "stream",
     "text": [
      "out-of-folds prdiction ==== fold_6 RMSE 6.366388036804879\n"
     ]
    },
    {
     "name": "stderr",
     "output_type": "stream",
     "text": [
      "Warning: Overfitting detector is active, thus evaluation metric is calculated on every iteration. 'metric_period' is ignored for evaluation metric.\n"
     ]
    },
    {
     "name": "stdout",
     "output_type": "stream",
     "text": [
      "0:\tlearn: 58.4887210\ttest: 50.3647736\tbest: 50.3647736 (0)\ttotal: 1.32s\tremaining: 10m 58s\n",
      "75:\tlearn: 40.9837429\ttest: 33.6650115\tbest: 33.6650115 (75)\ttotal: 1m 34s\tremaining: 8m 49s\n",
      "150:\tlearn: 37.6384418\ttest: 31.9240757\tbest: 31.9240757 (150)\ttotal: 3m 9s\tremaining: 7m 17s\n",
      "225:\tlearn: 36.3076578\ttest: 31.7149836\tbest: 31.7117979 (213)\ttotal: 4m 43s\tremaining: 5m 43s\n",
      "300:\tlearn: 35.4364655\ttest: 31.6288054\tbest: 31.6288054 (300)\ttotal: 6m 16s\tremaining: 4m 9s\n",
      "375:\tlearn: 34.8446588\ttest: 31.5611895\tbest: 31.5611895 (375)\ttotal: 7m 49s\tremaining: 2m 34s\n",
      "450:\tlearn: 34.2861073\ttest: 31.5212527\tbest: 31.5212527 (450)\ttotal: 9m 23s\tremaining: 1m 1s\n",
      "499:\tlearn: 33.9859227\ttest: 31.5136429\tbest: 31.5023340 (488)\ttotal: 10m 22s\tremaining: 0us\n",
      "\n",
      "bestTest = 31.50233401\n",
      "bestIteration = 488\n",
      "\n",
      "Shrink model to first 489 iterations.\n"
     ]
    },
    {
     "name": "stderr",
     "output_type": "stream",
     "text": [
      "8it [1:23:07, 623.97s/it]"
     ]
    },
    {
     "name": "stdout",
     "output_type": "stream",
     "text": [
      "out-of-folds prdiction ==== fold_7 RMSE 5.612694006727581\n"
     ]
    },
    {
     "name": "stderr",
     "output_type": "stream",
     "text": [
      "Warning: Overfitting detector is active, thus evaluation metric is calculated on every iteration. 'metric_period' is ignored for evaluation metric.\n"
     ]
    },
    {
     "name": "stdout",
     "output_type": "stream",
     "text": [
      "0:\tlearn: 57.8531506\ttest: 56.6486533\tbest: 56.6486533 (0)\ttotal: 1.25s\tremaining: 10m 21s\n",
      "75:\tlearn: 40.4234294\ttest: 40.2654555\tbest: 40.2654555 (75)\ttotal: 1m 35s\tremaining: 8m 51s\n",
      "150:\tlearn: 36.9817339\ttest: 37.9466324\tbest: 37.9466324 (150)\ttotal: 3m 9s\tremaining: 7m 17s\n",
      "225:\tlearn: 35.6445760\ttest: 37.3649068\tbest: 37.3649068 (225)\ttotal: 4m 43s\tremaining: 5m 43s\n",
      "300:\tlearn: 34.7844571\ttest: 37.1018721\tbest: 37.1018721 (300)\ttotal: 6m 16s\tremaining: 4m 8s\n",
      "375:\tlearn: 34.1250373\ttest: 36.9407223\tbest: 36.9407223 (375)\ttotal: 7m 48s\tremaining: 2m 34s\n",
      "450:\tlearn: 33.4956932\ttest: 36.8147117\tbest: 36.8147090 (449)\ttotal: 9m 18s\tremaining: 1m\n",
      "499:\tlearn: 33.1401817\ttest: 36.7578360\tbest: 36.7578360 (499)\ttotal: 10m 17s\tremaining: 0us\n",
      "\n",
      "bestTest = 36.75783595\n",
      "bestIteration = 499\n",
      "\n"
     ]
    },
    {
     "name": "stderr",
     "output_type": "stream",
     "text": [
      "9it [1:33:26, 622.60s/it]"
     ]
    },
    {
     "name": "stdout",
     "output_type": "stream",
     "text": [
      "out-of-folds prdiction ==== fold_8 RMSE 6.0628240689368935\n"
     ]
    },
    {
     "name": "stderr",
     "output_type": "stream",
     "text": [
      "Warning: Overfitting detector is active, thus evaluation metric is calculated on every iteration. 'metric_period' is ignored for evaluation metric.\n"
     ]
    },
    {
     "name": "stdout",
     "output_type": "stream",
     "text": [
      "0:\tlearn: 56.9349530\ttest: 64.5661225\tbest: 64.5661225 (0)\ttotal: 1.35s\tremaining: 11m 13s\n",
      "75:\tlearn: 39.5449489\ttest: 48.6911957\tbest: 48.6911957 (75)\ttotal: 1m 35s\tremaining: 8m 52s\n",
      "150:\tlearn: 36.2121178\ttest: 46.2669096\tbest: 46.2669096 (150)\ttotal: 3m 9s\tremaining: 7m 17s\n",
      "225:\tlearn: 34.8763525\ttest: 45.6079581\tbest: 45.6079581 (225)\ttotal: 4m 42s\tremaining: 5m 42s\n",
      "300:\tlearn: 33.9864828\ttest: 45.2483826\tbest: 45.2483826 (300)\ttotal: 6m 15s\tremaining: 4m 8s\n",
      "375:\tlearn: 33.3771011\ttest: 45.0567843\tbest: 45.0567843 (375)\ttotal: 7m 47s\tremaining: 2m 34s\n",
      "450:\tlearn: 32.8063833\ttest: 44.8890793\tbest: 44.8890793 (450)\ttotal: 9m 20s\tremaining: 1m\n",
      "499:\tlearn: 32.4721559\ttest: 44.8170820\tbest: 44.8170461 (498)\ttotal: 10m 20s\tremaining: 0us\n",
      "\n",
      "bestTest = 44.81704613\n",
      "bestIteration = 498\n",
      "\n",
      "Shrink model to first 499 iterations.\n"
     ]
    },
    {
     "name": "stderr",
     "output_type": "stream",
     "text": [
      "10it [1:43:49, 622.95s/it]"
     ]
    },
    {
     "name": "stdout",
     "output_type": "stream",
     "text": [
      "out-of-folds prdiction ==== fold_9 RMSE 6.694553468622229\n"
     ]
    },
    {
     "name": "stderr",
     "output_type": "stream",
     "text": [
      "\n"
     ]
    }
   ],
   "source": [
    "NUM_FOLDS = 10\n",
    "kf = KFold(n_splits=NUM_FOLDS, shuffle=True, random_state=0)\n",
    "# we. can also use \n",
    "\n",
    "for fold, (train_idx, test_idx) in tqdm.tqdm(enumerate(kf.split(train, target))):\n",
    "    X_train, X_test = train.iloc[train_idx][test.columns], train.iloc[test_idx][test.columns]\n",
    "    y_train, y_test = target[train_idx], target[test_idx]\n",
    "    \n",
    "    ## config from https://www.kaggle.com/nicapotato/simple-catboost\n",
    "    model = CatBoostRegressor(iterations=500,\n",
    "                         learning_rate=0.02,\n",
    "                         depth=12,\n",
    "                         eval_metric='RMSE',\n",
    "#                         early_stopping_rounds=42,\n",
    "                         random_seed = 23,\n",
    "                         bagging_temperature = 0.2,\n",
    "                         od_type='Iter',\n",
    "                         metric_period = 75,\n",
    "                         od_wait=100)\n",
    "    # train model\n",
    "    model.fit(X_train, y_train,\n",
    "                 eval_set=(X_test,y_test),\n",
    "                 cat_features=cats_discrete_idx,\n",
    "                 use_best_model=True,\n",
    "                 verbose=True)\n",
    "\n",
    "    oof = model.predict(X_test)\n",
    "    train_oof[test_idx] = oof\n",
    "    test_preds += model.predict(test)/NUM_FOLDS      \n",
    "    print(f\"out-of-folds prdiction ==== fold_{fold} RMSE\",np.sqrt(mean_squared_error(oof, y_test, squared=False)))"
   ]
  },
  {
   "cell_type": "markdown",
   "id": "34d96cf9",
   "metadata": {
    "papermill": {
     "duration": 0.063972,
     "end_time": "2022-03-01T19:21:10.310980",
     "exception": false,
     "start_time": "2022-03-01T19:21:10.247008",
     "status": "completed"
    },
    "tags": []
   },
   "source": [
    "## Save Data"
   ]
  },
  {
   "cell_type": "code",
   "execution_count": 31,
   "id": "e5fbd518",
   "metadata": {
    "execution": {
     "iopub.execute_input": "2022-03-01T19:21:10.445094Z",
     "iopub.status.busy": "2022-03-01T19:21:10.444514Z",
     "iopub.status.idle": "2022-03-01T19:21:10.449429Z",
     "shell.execute_reply": "2022-03-01T19:21:10.448916Z",
     "shell.execute_reply.started": "2022-02-07T10:42:25.610536Z"
    },
    "papermill": {
     "duration": 0.074265,
     "end_time": "2022-03-01T19:21:10.449572",
     "exception": false,
     "start_time": "2022-03-01T19:21:10.375307",
     "status": "completed"
    },
    "tags": []
   },
   "outputs": [],
   "source": [
    "# save results\n",
    "np.save('train_oof.npy', train_oof)\n",
    "np.save('test_preds.npy', test_preds)"
   ]
  },
  {
   "cell_type": "code",
   "execution_count": 32,
   "id": "12407af3",
   "metadata": {
    "execution": {
     "iopub.execute_input": "2022-03-01T19:21:10.591616Z",
     "iopub.status.busy": "2022-03-01T19:21:10.586622Z",
     "iopub.status.idle": "2022-03-01T19:21:10.817048Z",
     "shell.execute_reply": "2022-03-01T19:21:10.816513Z",
     "shell.execute_reply.started": "2022-02-07T10:42:25.626149Z"
    },
    "papermill": {
     "duration": 0.302366,
     "end_time": "2022-03-01T19:21:10.817181",
     "exception": false,
     "start_time": "2022-03-01T19:21:10.514815",
     "status": "completed"
    },
    "tags": []
   },
   "outputs": [],
   "source": [
    "sub = pd.DataFrame(columns=['id', 'site_eui'])\n",
    "sub['id']  = test_ids\n",
    "sub['site_eui'] = test_preds\n",
    "sub.to_csv('submission_CB2.csv', index=False)"
   ]
  },
  {
   "cell_type": "code",
   "execution_count": null,
   "id": "0276be60",
   "metadata": {
    "papermill": {
     "duration": 0.064249,
     "end_time": "2022-03-01T19:21:10.946209",
     "exception": false,
     "start_time": "2022-03-01T19:21:10.881960",
     "status": "completed"
    },
    "tags": []
   },
   "outputs": [],
   "source": []
  }
 ],
 "metadata": {
  "kernelspec": {
   "display_name": "Python 3",
   "language": "python",
   "name": "python3"
  },
  "language_info": {
   "codemirror_mode": {
    "name": "ipython",
    "version": 3
   },
   "file_extension": ".py",
   "mimetype": "text/x-python",
   "name": "python",
   "nbconvert_exporter": "python",
   "pygments_lexer": "ipython3",
   "version": "3.7.12"
  },
  "papermill": {
   "default_parameters": {},
   "duration": 6285.982134,
   "end_time": "2022-03-01T19:21:12.032592",
   "environment_variables": {},
   "exception": null,
   "input_path": "__notebook__.ipynb",
   "output_path": "__notebook__.ipynb",
   "parameters": {},
   "start_time": "2022-03-01T17:36:26.050458",
   "version": "2.3.3"
  }
 },
 "nbformat": 4,
 "nbformat_minor": 5
}
